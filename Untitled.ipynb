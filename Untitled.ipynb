{
 "cells": [
  {
   "cell_type": "code",
   "execution_count": 15,
   "metadata": {
    "collapsed": true
   },
   "outputs": [],
   "source": [
    "import pandas as pd"
   ]
  },
  {
   "cell_type": "code",
   "execution_count": 16,
   "metadata": {
    "collapsed": true
   },
   "outputs": [],
   "source": [
    "df = pd.read_csv('scraped_output/all_wikipedia_out.txt', sep=\" \")"
   ]
  },
  {
   "cell_type": "code",
   "execution_count": 17,
   "metadata": {
    "collapsed": false
   },
   "outputs": [
    {
     "data": {
      "text/html": [
       "<div>\n",
       "<table border=\"1\" class=\"dataframe\">\n",
       "  <thead>\n",
       "    <tr style=\"text-align: right;\">\n",
       "      <th></th>\n",
       "      <th>Name</th>\n",
       "      <th>Hex</th>\n",
       "    </tr>\n",
       "  </thead>\n",
       "  <tbody>\n",
       "    <tr>\n",
       "      <th>0</th>\n",
       "      <td>Absolute zero</td>\n",
       "      <td>0048BA</td>\n",
       "    </tr>\n",
       "    <tr>\n",
       "      <th>1</th>\n",
       "      <td>Acid green</td>\n",
       "      <td>B0BF1A</td>\n",
       "    </tr>\n",
       "    <tr>\n",
       "      <th>2</th>\n",
       "      <td>Aero</td>\n",
       "      <td>7CB9E8</td>\n",
       "    </tr>\n",
       "    <tr>\n",
       "      <th>3</th>\n",
       "      <td>Aero blue</td>\n",
       "      <td>C9FFE5</td>\n",
       "    </tr>\n",
       "    <tr>\n",
       "      <th>4</th>\n",
       "      <td>African violet</td>\n",
       "      <td>B284BE</td>\n",
       "    </tr>\n",
       "  </tbody>\n",
       "</table>\n",
       "</div>"
      ],
      "text/plain": [
       "             Name     Hex\n",
       "0   Absolute zero  0048BA\n",
       "1      Acid green  B0BF1A\n",
       "2            Aero  7CB9E8\n",
       "3       Aero blue  C9FFE5\n",
       "4  African violet  B284BE"
      ]
     },
     "execution_count": 17,
     "metadata": {},
     "output_type": "execute_result"
    }
   ],
   "source": [
    "df.head()"
   ]
  },
  {
   "cell_type": "code",
   "execution_count": 19,
   "metadata": {
    "collapsed": false
   },
   "outputs": [
    {
     "data": {
      "text/plain": [
       "967117    5\n",
       "C19A6B    4\n",
       "00FFFF    4\n",
       "990000    4\n",
       "FAD6A5    3\n",
       "DE6FA1    3\n",
       "6B4423    3\n",
       "A67B5B    3\n",
       "FADA5E    3\n",
       "D2691E    3\n",
       "483C32    3\n",
       "00FF00    3\n",
       "008000    3\n",
       "DDA0DD    3\n",
       "A52A2A    3\n",
       "FF91AF    2\n",
       "DA8A67    2\n",
       "BFFF00    2\n",
       "9457EB    2\n",
       "F5F5F5    2\n",
       "FD0E35    2\n",
       "C2B280    2\n",
       "674C47    2\n",
       "FFFF66    2\n",
       "FF00FF    2\n",
       "AA98A9    2\n",
       "6F4E37    2\n",
       "C71585    2\n",
       "AF4035    2\n",
       "355E3B    2\n",
       "         ..\n",
       "DEA5A4    1\n",
       "563C0D    1\n",
       "009698    1\n",
       "0018A8    1\n",
       "ABCDEF    1\n",
       "5FA778    1\n",
       "FF878D    1\n",
       "330066    1\n",
       "FFDEAD    1\n",
       "AF002A    1\n",
       "E3AB57    1\n",
       "8FD400    1\n",
       "00827F    1\n",
       "DA3287    1\n",
       "29AB87    1\n",
       "534B4F    1\n",
       "FFC40C    1\n",
       "FC8EAC    1\n",
       "737000    1\n",
       "1F75FE    1\n",
       "EF3038    1\n",
       "7E5E60    1\n",
       "DBE9F4    1\n",
       "4AFF00    1\n",
       "6C541E    1\n",
       "72A0C1    1\n",
       "00FFEF    1\n",
       "0892D0    1\n",
       "D0FF14    1\n",
       "A7F432    1\n",
       "Name: Hex, dtype: int64"
      ]
     },
     "execution_count": 19,
     "metadata": {},
     "output_type": "execute_result"
    }
   ],
   "source": [
    "df.Hex.value_counts()"
   ]
  },
  {
   "cell_type": "code",
   "execution_count": null,
   "metadata": {
    "collapsed": true
   },
   "outputs": [],
   "source": []
  }
 ],
 "metadata": {
  "kernelspec": {
   "display_name": "Python 2",
   "language": "python",
   "name": "python2"
  },
  "language_info": {
   "codemirror_mode": {
    "name": "ipython",
    "version": 2
   },
   "file_extension": ".py",
   "mimetype": "text/x-python",
   "name": "python",
   "nbconvert_exporter": "python",
   "pygments_lexer": "ipython2",
   "version": "2.7.11"
  }
 },
 "nbformat": 4,
 "nbformat_minor": 0
}
