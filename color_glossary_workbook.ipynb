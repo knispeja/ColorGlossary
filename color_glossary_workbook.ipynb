{
 "cells": [
  {
   "cell_type": "code",
   "execution_count": 21,
   "metadata": {
    "collapsed": true
   },
   "outputs": [],
   "source": [
    "import pandas as pd\n",
    "import numpy as np"
   ]
  },
  {
   "cell_type": "code",
   "execution_count": 17,
   "metadata": {
    "collapsed": true
   },
   "outputs": [],
   "source": [
    "def rgb_to_hex(r, g, b):\n",
    "    return '#%02x%02x%02x' % (r, g, b)"
   ]
  },
  {
   "cell_type": "code",
   "execution_count": 3,
   "metadata": {
    "collapsed": true
   },
   "outputs": [],
   "source": [
    "df = pd.read_csv('scraped_output/all_wikipedia_out.txt', sep=\" \")"
   ]
  },
  {
   "cell_type": "code",
   "execution_count": 90,
   "metadata": {
    "collapsed": false
   },
   "outputs": [
    {
     "data": {
      "text/plain": [
       "Name    object\n",
       "Hex     object\n",
       "dtype: object"
      ]
     },
     "execution_count": 90,
     "metadata": {},
     "output_type": "execute_result"
    }
   ],
   "source": [
    "df.dtypes"
   ]
  },
  {
   "cell_type": "code",
   "execution_count": null,
   "metadata": {
    "collapsed": true
   },
   "outputs": [],
   "source": []
  },
  {
   "cell_type": "code",
   "execution_count": 41,
   "metadata": {
    "collapsed": false
   },
   "outputs": [],
   "source": [
    "df_resene = pd.read_excel('sources/resene.xls')"
   ]
  },
  {
   "cell_type": "code",
   "execution_count": 42,
   "metadata": {
    "collapsed": false
   },
   "outputs": [],
   "source": [
    "df_resene = df_resene.drop(['Total Colour Code', 'Chart', 'Pencil1', 'Pencil2', 'Pencil3', 'Pencil4', 'LRV%'], axis=1)"
   ]
  },
  {
   "cell_type": "code",
   "execution_count": 44,
   "metadata": {
    "collapsed": false
   },
   "outputs": [],
   "source": [
    "df_resene.columns = ['Name', 'R', 'G', 'B']"
   ]
  },
  {
   "cell_type": "code",
   "execution_count": 48,
   "metadata": {
    "collapsed": false
   },
   "outputs": [],
   "source": [
    "df_resene = df_resene[df_resene.R.apply(lambda x: isinstance(x, (int, np.int64)))]\n",
    "df_resene = df_resene[df_resene.G.apply(lambda x: isinstance(x, (int, np.int64)))]\n",
    "df_resene = df_resene[df_resene.B.apply(lambda x: isinstance(x, (int, np.int64)))]"
   ]
  },
  {
   "cell_type": "code",
   "execution_count": 49,
   "metadata": {
    "collapsed": false
   },
   "outputs": [],
   "source": [
    "df_resene[['R', 'G', 'B']] = df_resene[['R', 'G', 'B']].astype(float)"
   ]
  },
  {
   "cell_type": "code",
   "execution_count": 50,
   "metadata": {
    "collapsed": false
   },
   "outputs": [],
   "source": [
    "df_resene['Hex'] = np.vectorize(rgb_to_hex)(df_resene['R'], df_resene['G'], df_resene['B'])"
   ]
  },
  {
   "cell_type": "code",
   "execution_count": 54,
   "metadata": {
    "collapsed": false
   },
   "outputs": [],
   "source": [
    "df_resene = df_resene.drop_duplicates()"
   ]
  },
  {
   "cell_type": "code",
   "execution_count": 76,
   "metadata": {
    "collapsed": false
   },
   "outputs": [],
   "source": [
    "df_resene = df_resene.drop_duplicates(subset='Name')"
   ]
  },
  {
   "cell_type": "code",
   "execution_count": 82,
   "metadata": {
    "collapsed": false
   },
   "outputs": [],
   "source": [
    "df_resene = df_resene.drop(['R', 'G', 'B'], axis=1)"
   ]
  },
  {
   "cell_type": "code",
   "execution_count": null,
   "metadata": {
    "collapsed": true
   },
   "outputs": [],
   "source": []
  },
  {
   "cell_type": "code",
   "execution_count": 84,
   "metadata": {
    "collapsed": true
   },
   "outputs": [],
   "source": [
    "final = df.append(df_resene)"
   ]
  },
  {
   "cell_type": "code",
   "execution_count": 95,
   "metadata": {
    "collapsed": false
   },
   "outputs": [
    {
     "name": "stderr",
     "output_type": "stream",
     "text": [
      "C:\\Users\\knispeja\\Anaconda2\\lib\\site-packages\\pandas\\core\\algorithms.py:190: UnicodeWarning: Unicode equal comparison failed to convert both arguments to Unicode - interpreting them as being unequal\n",
      "  labels = table.get_labels(vals, uniques, 0, na_sentinel)\n"
     ]
    }
   ],
   "source": [
    "final = final.drop_duplicates(subset='Name')"
   ]
  },
  {
   "cell_type": "code",
   "execution_count": 103,
   "metadata": {
    "collapsed": false
   },
   "outputs": [
    {
     "data": {
      "text/plain": [
       "967117     5\n",
       "#dfddd6    5\n",
       "#3c241b    4\n",
       "C19A6B     4\n",
       "#362d26    4\n",
       "00FFFF     4\n",
       "990000     4\n",
       "FADA5E     3\n",
       "FAD6A5     3\n",
       "A67B5B     3\n",
       "#6b252c    3\n",
       "#252525    3\n",
       "#edd5a6    3\n",
       "#86282e    3\n",
       "#69326e    3\n",
       "#8e593c    3\n",
       "#cec6b5    3\n",
       "DDA0DD     3\n",
       "#667028    3\n",
       "#f7e5b7    3\n",
       "6B4423     3\n",
       "#2a2551    3\n",
       "#ffd7a0    3\n",
       "#9eaa9e    3\n",
       "483C32     3\n",
       "D2691E     3\n",
       "008000     3\n",
       "00FF00     3\n",
       "#666156    3\n",
       "#273c5a    3\n",
       "          ..\n",
       "#c9b59a    1\n",
       "#4d202e    1\n",
       "#342931    1\n",
       "#394541    1\n",
       "#3a4133    1\n",
       "#28332c    1\n",
       "#312a29    1\n",
       "#8c8b74    1\n",
       "#33343a    1\n",
       "#a98d36    1\n",
       "545AA7     1\n",
       "#1f6a7d    1\n",
       "#353333    1\n",
       "#6f6f6e    1\n",
       "#f5f9cb    1\n",
       "FFFACD     1\n",
       "746CC0     1\n",
       "FF99CC     1\n",
       "#98b7af    1\n",
       "#d3a95c    1\n",
       "#c2baad    1\n",
       "#8a9794    1\n",
       "FDFD96     1\n",
       "674846     1\n",
       "#e98c3a    1\n",
       "#be523f    1\n",
       "#5a5539    1\n",
       "#716e6b    1\n",
       "#e1634f    1\n",
       "#cecdb8    1\n",
       "Name: Hex, dtype: int64"
      ]
     },
     "execution_count": 103,
     "metadata": {},
     "output_type": "execute_result"
    }
   ],
   "source": [
    "final.Hex.value_counts()"
   ]
  },
  {
   "cell_type": "code",
   "execution_count": 100,
   "metadata": {
    "collapsed": false
   },
   "outputs": [
    {
     "data": {
      "text/html": [
       "<div>\n",
       "<table border=\"1\" class=\"dataframe\">\n",
       "  <thead>\n",
       "    <tr style=\"text-align: right;\">\n",
       "      <th></th>\n",
       "      <th>Name</th>\n",
       "      <th>Hex</th>\n",
       "    </tr>\n",
       "  </thead>\n",
       "  <tbody>\n",
       "    <tr>\n",
       "      <th>0</th>\n",
       "      <td>Absolute zero</td>\n",
       "      <td>0048BA</td>\n",
       "    </tr>\n",
       "    <tr>\n",
       "      <th>1</th>\n",
       "      <td>Acid green</td>\n",
       "      <td>B0BF1A</td>\n",
       "    </tr>\n",
       "    <tr>\n",
       "      <th>2</th>\n",
       "      <td>Aero</td>\n",
       "      <td>7CB9E8</td>\n",
       "    </tr>\n",
       "    <tr>\n",
       "      <th>3</th>\n",
       "      <td>Aero blue</td>\n",
       "      <td>C9FFE5</td>\n",
       "    </tr>\n",
       "    <tr>\n",
       "      <th>4</th>\n",
       "      <td>African violet</td>\n",
       "      <td>B284BE</td>\n",
       "    </tr>\n",
       "    <tr>\n",
       "      <th>5</th>\n",
       "      <td>Air Force blue (RAF)</td>\n",
       "      <td>5D8AA8</td>\n",
       "    </tr>\n",
       "    <tr>\n",
       "      <th>6</th>\n",
       "      <td>Air Force blue (USAF)</td>\n",
       "      <td>00308F</td>\n",
       "    </tr>\n",
       "    <tr>\n",
       "      <th>7</th>\n",
       "      <td>Air superiority blue</td>\n",
       "      <td>72A0C1</td>\n",
       "    </tr>\n",
       "    <tr>\n",
       "      <th>8</th>\n",
       "      <td>Alabama crimson</td>\n",
       "      <td>AF002A</td>\n",
       "    </tr>\n",
       "    <tr>\n",
       "      <th>9</th>\n",
       "      <td>Alabaster</td>\n",
       "      <td>F2F0E6</td>\n",
       "    </tr>\n",
       "    <tr>\n",
       "      <th>10</th>\n",
       "      <td>Alice blue</td>\n",
       "      <td>F0F8FF</td>\n",
       "    </tr>\n",
       "    <tr>\n",
       "      <th>11</th>\n",
       "      <td>Alien Armpit</td>\n",
       "      <td>84DE02</td>\n",
       "    </tr>\n",
       "    <tr>\n",
       "      <th>12</th>\n",
       "      <td>Alizarin crimson</td>\n",
       "      <td>E32636</td>\n",
       "    </tr>\n",
       "    <tr>\n",
       "      <th>13</th>\n",
       "      <td>Alloy orange</td>\n",
       "      <td>C46210</td>\n",
       "    </tr>\n",
       "    <tr>\n",
       "      <th>14</th>\n",
       "      <td>Almond</td>\n",
       "      <td>EFDECD</td>\n",
       "    </tr>\n",
       "    <tr>\n",
       "      <th>15</th>\n",
       "      <td>Amaranth</td>\n",
       "      <td>E52B50</td>\n",
       "    </tr>\n",
       "    <tr>\n",
       "      <th>16</th>\n",
       "      <td>Amaranth deep purple</td>\n",
       "      <td>9F2B68</td>\n",
       "    </tr>\n",
       "    <tr>\n",
       "      <th>17</th>\n",
       "      <td>Amaranth pink</td>\n",
       "      <td>F19CBB</td>\n",
       "    </tr>\n",
       "    <tr>\n",
       "      <th>18</th>\n",
       "      <td>Amaranth purple</td>\n",
       "      <td>AB274F</td>\n",
       "    </tr>\n",
       "    <tr>\n",
       "      <th>19</th>\n",
       "      <td>Amaranth red</td>\n",
       "      <td>D3212D</td>\n",
       "    </tr>\n",
       "    <tr>\n",
       "      <th>20</th>\n",
       "      <td>Amazon Store</td>\n",
       "      <td>3B7A57</td>\n",
       "    </tr>\n",
       "    <tr>\n",
       "      <th>21</th>\n",
       "      <td>Amazonite</td>\n",
       "      <td>00C4B0</td>\n",
       "    </tr>\n",
       "    <tr>\n",
       "      <th>22</th>\n",
       "      <td>Amber</td>\n",
       "      <td>FFBF00</td>\n",
       "    </tr>\n",
       "    <tr>\n",
       "      <th>23</th>\n",
       "      <td>Amber (SAE/ECE)</td>\n",
       "      <td>FF7E00</td>\n",
       "    </tr>\n",
       "    <tr>\n",
       "      <th>24</th>\n",
       "      <td>American rose</td>\n",
       "      <td>FF033E</td>\n",
       "    </tr>\n",
       "    <tr>\n",
       "      <th>25</th>\n",
       "      <td>Amethyst</td>\n",
       "      <td>9966CC</td>\n",
       "    </tr>\n",
       "    <tr>\n",
       "      <th>26</th>\n",
       "      <td>Android green</td>\n",
       "      <td>A4C639</td>\n",
       "    </tr>\n",
       "    <tr>\n",
       "      <th>27</th>\n",
       "      <td>Anti-flash white</td>\n",
       "      <td>F2F3F4</td>\n",
       "    </tr>\n",
       "    <tr>\n",
       "      <th>28</th>\n",
       "      <td>Antique brass</td>\n",
       "      <td>CD9575</td>\n",
       "    </tr>\n",
       "    <tr>\n",
       "      <th>29</th>\n",
       "      <td>Antique bronze</td>\n",
       "      <td>665D1E</td>\n",
       "    </tr>\n",
       "    <tr>\n",
       "      <th>...</th>\n",
       "      <td>...</td>\n",
       "      <td>...</td>\n",
       "    </tr>\n",
       "    <tr>\n",
       "      <th>10039</th>\n",
       "      <td>Yellow Submarine</td>\n",
       "      <td>#e8d233</td>\n",
       "    </tr>\n",
       "    <tr>\n",
       "      <th>10041</th>\n",
       "      <td>Ying Yang</td>\n",
       "      <td>#dadcbe</td>\n",
       "    </tr>\n",
       "    <tr>\n",
       "      <th>10046</th>\n",
       "      <td>Your Pink</td>\n",
       "      <td>#ffc5bb</td>\n",
       "    </tr>\n",
       "    <tr>\n",
       "      <th>10047</th>\n",
       "      <td>Yucca</td>\n",
       "      <td>#68786b</td>\n",
       "    </tr>\n",
       "    <tr>\n",
       "      <th>10050</th>\n",
       "      <td>Yukon Gold</td>\n",
       "      <td>#826a21</td>\n",
       "    </tr>\n",
       "    <tr>\n",
       "      <th>10053</th>\n",
       "      <td>Yuma</td>\n",
       "      <td>#c7b882</td>\n",
       "    </tr>\n",
       "    <tr>\n",
       "      <th>10058</th>\n",
       "      <td>Zambezi</td>\n",
       "      <td>#6b5a5a</td>\n",
       "    </tr>\n",
       "    <tr>\n",
       "      <th>10059</th>\n",
       "      <td>Zanah</td>\n",
       "      <td>#b2c6b1</td>\n",
       "    </tr>\n",
       "    <tr>\n",
       "      <th>10060</th>\n",
       "      <td>Zappo</td>\n",
       "      <td>#c4c0e2</td>\n",
       "    </tr>\n",
       "    <tr>\n",
       "      <th>10064</th>\n",
       "      <td>Zeal</td>\n",
       "      <td>#91e0b7</td>\n",
       "    </tr>\n",
       "    <tr>\n",
       "      <th>10065</th>\n",
       "      <td>Zen</td>\n",
       "      <td>#d2d0ae</td>\n",
       "    </tr>\n",
       "    <tr>\n",
       "      <th>10069</th>\n",
       "      <td>Zephyr</td>\n",
       "      <td>#809ac6</td>\n",
       "    </tr>\n",
       "    <tr>\n",
       "      <th>10071</th>\n",
       "      <td>Zeppelin</td>\n",
       "      <td>#382a34</td>\n",
       "    </tr>\n",
       "    <tr>\n",
       "      <th>10074</th>\n",
       "      <td>Zest</td>\n",
       "      <td>#c6723b</td>\n",
       "    </tr>\n",
       "    <tr>\n",
       "      <th>10076</th>\n",
       "      <td>Zeus</td>\n",
       "      <td>#3b3c38</td>\n",
       "    </tr>\n",
       "    <tr>\n",
       "      <th>10079</th>\n",
       "      <td>Zibibbo</td>\n",
       "      <td>#51242b</td>\n",
       "    </tr>\n",
       "    <tr>\n",
       "      <th>10084</th>\n",
       "      <td>Ziggurat</td>\n",
       "      <td>#81a6aa</td>\n",
       "    </tr>\n",
       "    <tr>\n",
       "      <th>10087</th>\n",
       "      <td>Zinc White</td>\n",
       "      <td>#e1dbd0</td>\n",
       "    </tr>\n",
       "    <tr>\n",
       "      <th>10088</th>\n",
       "      <td>Zinger</td>\n",
       "      <td>#873d42</td>\n",
       "    </tr>\n",
       "    <tr>\n",
       "      <th>10090</th>\n",
       "      <td>Zinzan</td>\n",
       "      <td>#192a41</td>\n",
       "    </tr>\n",
       "    <tr>\n",
       "      <th>10091</th>\n",
       "      <td>Zion</td>\n",
       "      <td>#ac7911</td>\n",
       "    </tr>\n",
       "    <tr>\n",
       "      <th>10092</th>\n",
       "      <td>Zircon</td>\n",
       "      <td>#dee3e3</td>\n",
       "    </tr>\n",
       "    <tr>\n",
       "      <th>10095</th>\n",
       "      <td>Zodiac</td>\n",
       "      <td>#413a5d</td>\n",
       "    </tr>\n",
       "    <tr>\n",
       "      <th>10097</th>\n",
       "      <td>Zombie</td>\n",
       "      <td>#ddc283</td>\n",
       "    </tr>\n",
       "    <tr>\n",
       "      <th>10103</th>\n",
       "      <td>Zoop De Loop</td>\n",
       "      <td>#254683</td>\n",
       "    </tr>\n",
       "    <tr>\n",
       "      <th>10105</th>\n",
       "      <td>Zorba</td>\n",
       "      <td>#a29589</td>\n",
       "    </tr>\n",
       "    <tr>\n",
       "      <th>10108</th>\n",
       "      <td>Zuccini</td>\n",
       "      <td>#17462e</td>\n",
       "    </tr>\n",
       "    <tr>\n",
       "      <th>10110</th>\n",
       "      <td>Zulu</td>\n",
       "      <td>#585156</td>\n",
       "    </tr>\n",
       "    <tr>\n",
       "      <th>10116</th>\n",
       "      <td>Zumthor</td>\n",
       "      <td>#cdd5d5</td>\n",
       "    </tr>\n",
       "    <tr>\n",
       "      <th>10123</th>\n",
       "      <td>Zydeco</td>\n",
       "      <td>#20483f</td>\n",
       "    </tr>\n",
       "  </tbody>\n",
       "</table>\n",
       "<p>4470 rows × 2 columns</p>\n",
       "</div>"
      ],
      "text/plain": [
       "                        Name      Hex\n",
       "0              Absolute zero   0048BA\n",
       "1                 Acid green   B0BF1A\n",
       "2                       Aero   7CB9E8\n",
       "3                  Aero blue   C9FFE5\n",
       "4             African violet   B284BE\n",
       "5       Air Force blue (RAF)   5D8AA8\n",
       "6      Air Force blue (USAF)   00308F\n",
       "7       Air superiority blue   72A0C1\n",
       "8            Alabama crimson   AF002A\n",
       "9                  Alabaster   F2F0E6\n",
       "10                Alice blue   F0F8FF\n",
       "11              Alien Armpit   84DE02\n",
       "12          Alizarin crimson   E32636\n",
       "13              Alloy orange   C46210\n",
       "14                    Almond   EFDECD\n",
       "15                  Amaranth   E52B50\n",
       "16      Amaranth deep purple   9F2B68\n",
       "17             Amaranth pink   F19CBB\n",
       "18           Amaranth purple   AB274F\n",
       "19              Amaranth red   D3212D\n",
       "20              Amazon Store   3B7A57\n",
       "21                 Amazonite   00C4B0\n",
       "22                     Amber   FFBF00\n",
       "23           Amber (SAE/ECE)   FF7E00\n",
       "24             American rose   FF033E\n",
       "25                  Amethyst   9966CC\n",
       "26             Android green   A4C639\n",
       "27          Anti-flash white   F2F3F4\n",
       "28             Antique brass   CD9575\n",
       "29            Antique bronze   665D1E\n",
       "...                      ...      ...\n",
       "10039       Yellow Submarine  #e8d233\n",
       "10041              Ying Yang  #dadcbe\n",
       "10046              Your Pink  #ffc5bb\n",
       "10047                  Yucca  #68786b\n",
       "10050             Yukon Gold  #826a21\n",
       "10053                   Yuma  #c7b882\n",
       "10058                Zambezi  #6b5a5a\n",
       "10059                  Zanah  #b2c6b1\n",
       "10060                  Zappo  #c4c0e2\n",
       "10064                   Zeal  #91e0b7\n",
       "10065                    Zen  #d2d0ae\n",
       "10069                 Zephyr  #809ac6\n",
       "10071               Zeppelin  #382a34\n",
       "10074                   Zest  #c6723b\n",
       "10076                   Zeus  #3b3c38\n",
       "10079                Zibibbo  #51242b\n",
       "10084               Ziggurat  #81a6aa\n",
       "10087             Zinc White  #e1dbd0\n",
       "10088                 Zinger  #873d42\n",
       "10090                 Zinzan  #192a41\n",
       "10091                   Zion  #ac7911\n",
       "10092                 Zircon  #dee3e3\n",
       "10095                 Zodiac  #413a5d\n",
       "10097                 Zombie  #ddc283\n",
       "10103           Zoop De Loop  #254683\n",
       "10105                  Zorba  #a29589\n",
       "10108                Zuccini  #17462e\n",
       "10110                   Zulu  #585156\n",
       "10116                Zumthor  #cdd5d5\n",
       "10123                 Zydeco  #20483f\n",
       "\n",
       "[4470 rows x 2 columns]"
      ]
     },
     "execution_count": 100,
     "metadata": {},
     "output_type": "execute_result"
    }
   ],
   "source": [
    "final"
   ]
  },
  {
   "cell_type": "code",
   "execution_count": null,
   "metadata": {
    "collapsed": true
   },
   "outputs": [],
   "source": []
  }
 ],
 "metadata": {
  "kernelspec": {
   "display_name": "Python 2",
   "language": "python",
   "name": "python2"
  },
  "language_info": {
   "codemirror_mode": {
    "name": "ipython",
    "version": 2
   },
   "file_extension": ".py",
   "mimetype": "text/x-python",
   "name": "python",
   "nbconvert_exporter": "python",
   "pygments_lexer": "ipython2",
   "version": "2.7.11"
  }
 },
 "nbformat": 4,
 "nbformat_minor": 0
}
